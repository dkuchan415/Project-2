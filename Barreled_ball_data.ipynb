{
 "cells": [
  {
   "cell_type": "code",
   "execution_count": 1,
   "metadata": {},
   "outputs": [],
   "source": [
    "import sqlalchemy\n",
    "from sqlalchemy.ext.automap import automap_base\n",
    "from sqlalchemy.orm import Session\n",
    "from sqlalchemy import create_engine, func\n",
    "\n",
    "import datetime as dt\n",
    "\n",
    "from flask import Flask, render_template, redirect, jsonify\n",
    "from flask_pymongo import PyMongo\n",
    "# import scrape_mars\n",
    "import json\n",
    "from bson.objectid import ObjectId\n",
    "from bson import json_util\n",
    "from bson import ObjectId\n",
    "\n",
    "from flask_cors import CORS, cross_origin"
   ]
  },
  {
   "cell_type": "code",
   "execution_count": 2,
   "metadata": {},
   "outputs": [],
   "source": [
    "app = Flask(__name__,static_url_path=\"/static\",static_folder=\"static\")\n",
    "mongo = PyMongo(app, uri=\"mongodb://localhost:27017/Ultimate_Baseball_Project\")"
   ]
  },
  {
   "cell_type": "code",
   "execution_count": 3,
   "metadata": {},
   "outputs": [],
   "source": [
    "hitter_data = mongo.db.Project2.find()"
   ]
  },
  {
   "cell_type": "code",
   "execution_count": 4,
   "metadata": {},
   "outputs": [],
   "source": [
    "hitter_data_list = list(hitter_data)"
   ]
  },
  {
   "cell_type": "code",
   "execution_count": 97,
   "metadata": {},
   "outputs": [],
   "source": [
    "def getSeasonByYear(player,year,seasonType ='REG'):\n",
    "    seasons = player.get('seasons', [])\n",
    "    for season in seasons:\n",
    "        if(season.get('year',0) == year and season.get('type','N/A') == seasonType):\n",
    "            return season;\n",
    "    return {}"
   ]
  },
  {
   "cell_type": "code",
   "execution_count": 98,
   "metadata": {},
   "outputs": [],
   "source": [
    "def getBarreledBall(season):\n",
    "    totals = season.get('totals', {})\n",
    "    statcast_metrics = totals.get('statcast_metrics', {})\n",
    "    hitting = statcast_metrics.get('hitting', {})\n",
    "    overall = hitting.get('overall', {})\n",
    "    for item in overall:\n",
    "        if 'barreled_ball' in item.keys():\n",
    "            return item.get('barreled_ball', {}).get('count', 0)\n",
    "    return 0"
   ]
  },
  {
   "cell_type": "code",
   "execution_count": 99,
   "metadata": {},
   "outputs": [],
   "source": [
    "season_year = 2019"
   ]
  },
  {
   "cell_type": "code",
   "execution_count": 100,
   "metadata": {},
   "outputs": [],
   "source": [
    "data = []"
   ]
  },
  {
   "cell_type": "code",
   "execution_count": 101,
   "metadata": {},
   "outputs": [
    {
     "name": "stdout",
     "output_type": "stream",
     "text": [
      "{'name': 'Ronaldo HernÃ¡ndez'}\n",
      "{'name': 'Michael Chavis'}\n",
      "{'name': 'Hyun Jin Ryu'}\n",
      "{'name': 'Ryan Thompson'}\n",
      "{'name': 'RamÃ³n UrÃ\\xadas'}\n",
      "{'name': 'Otto Lopez'}\n",
      "{'name': 'Yoshi Tsutsugo'}\n",
      "{'name': 'Luke Voit'}\n",
      "{'name': 'Christian VÃ¡zquez'}\n",
      "{'name': 'Hunter Harvey'}\n",
      "{'name': 'Andrew Benintendi'}\n",
      "{'name': 'Austin Hays'}\n",
      "{'name': 'Ji-Man Choi'}\n",
      "{'name': 'Zac Lowther'}\n",
      "{'name': 'Jonathan Davis'}\n",
      "{'name': 'Pat Valaika'}\n",
      "{'name': 'Hanser Alberto'}\n",
      "{'name': 'Teoscar HernÃ¡ndez'}\n",
      "{'name': 'Tanner Houck'}\n",
      "{'name': 'Ty Tice'}\n",
      "{'name': 'Christian Arroyo'}\n",
      "{'name': 'Clint Frazier'}\n",
      "{'name': 'Brett Phillips'}\n",
      "{'name': 'Lourdes Gurriel Jr.'}\n",
      "{'name': 'Richie Martin'}\n",
      "{'name': 'Chris Mazza'}\n",
      "{'name': 'Mike Tauchman'}\n",
      "{'name': 'Xander Bogaerts'}\n",
      "{'name': 'Pete Fairbanks'}\n",
      "{'name': 'Darwinzon Hernandez'}\n",
      "{'name': 'Ryan Borucki'}\n",
      "{'name': 'Alexander Wells'}\n",
      "{'name': 'Thairo Estrada'}\n",
      "{'name': 'Tom Hatch'}\n",
      "{'name': 'Rowdy Tellez'}\n",
      "{'name': 'Riley Adams'}\n",
      "{'name': 'Dustin Pedroia'}\n",
      "{'name': 'Gabriel Moreno'}\n",
      "{'name': 'Anthony Castro'}\n",
      "{'name': 'Travis Lakins Sr.'}\n",
      "{'name': 'Aaron Hicks'}\n",
      "{'name': 'Austin Brice'}\n",
      "{'name': 'Randal Grichuk'}\n",
      "{'name': 'Jonathan AraÃºz'}\n",
      "{'name': 'Garrett Whitlock'}\n",
      "{'name': 'Shawn Armstrong'}\n",
      "{'name': 'Ryan Brasier'}\n",
      "{'name': 'Phillips Valdez'}\n",
      "{'name': 'Chris Sale'}\n",
      "{'name': 'Nathan Eovaldi'}\n",
      "{'name': 'Anthony Kay'}\n",
      "{'name': 'Alex Verdugo'}\n",
      "{'name': 'Randy Arozarena'}\n",
      "{'name': 'Alejandro Kirk'}\n",
      "{'name': 'Trevor Richards'}\n",
      "{'name': 'Nick Anderson'}\n",
      "{'name': 'Gleyber Torres'}\n",
      "{'name': 'Keegan Akin'}\n",
      "{'name': 'Francisco MejÃ\\xada'}\n",
      "{'name': 'Diego Castillo'}\n",
      "{'name': 'Tyler Glasnow'}\n",
      "{'name': 'Willy Adames'}\n",
      "{'name': 'Jeisson Rosario'}\n",
      "{'name': 'Gio Urshela'}\n",
      "{'name': 'Aaron Judge'}\n",
      "{'name': 'Bo Bichette'}\n",
      "{'name': 'Josh Palacios'}\n",
      "{'name': 'Hunter Renfroe'}\n",
      "{'name': 'Michael King'}\n",
      "{'name': 'Danny Jansen'}\n",
      "{'name': 'Kevin Kiermaier'}\n",
      "{'name': 'Eduardo RodrÃ\\xadguez'}\n",
      "{'name': 'Joey Wendle'}\n",
      "{'name': 'DJ Stewart'}\n",
      "{'name': 'John Curtiss'}\n",
      "{'name': 'Cody Reed'}\n",
      "{'name': 'Paul Fry'}\n",
      "{'name': 'Robbie Ray'}\n",
      "{'name': 'Tanner Scott'}\n",
      "{'name': 'Ryan Mountcastle'}\n",
      "{'name': 'Cavan Biggio'}\n",
      "{'name': 'Mike Zunino'}\n",
      "{'name': 'Chance Sisco'}\n",
      "{'name': 'Pedro Severino'}\n",
      "{'name': 'Santiago Espinal'}\n",
      "{'name': 'Reese McGuire'}\n",
      "{'name': 'Isaac Mattson'}\n",
      "{'name': 'Travis Shaw'}\n",
      "{'name': 'Bobby Dalbec'}\n",
      "{'name': 'Matt Andriese'}\n",
      "{'name': 'Kevin Plawecki'}\n",
      "{'name': 'Josh Taylor'}\n",
      "{'name': 'Michael Baumann'}\n",
      "{'name': 'Ross Stripling'}\n",
      "{'name': 'Rio Ruiz'}\n",
      "{'name': 'Yusniel Diaz'}\n",
      "{'name': 'Jorge LÃ³pez'}\n",
      "{'name': 'A.J. Cole'}\n",
      "{'name': 'Manuel Margot'}\n",
      "{'name': 'Yandy DÃ\\xadaz'}\n",
      "{'name': 'Austin Meadows'}\n",
      "{'name': 'Tyler Wade'}\n",
      "{'name': 'Brandon Lowe'}\n",
      "{'name': 'JosÃ© Iglesias'}\n",
      "{'name': 'Alex Cobb'}\n",
      "{'name': 'Mike Brosseau'}\n",
      "{'name': 'Nick Pivetta'}\n",
      "{'name': 'Anthony Santander'}\n",
      "{'name': 'Cesar Valdez'}\n",
      "{'name': 'John Means'}\n",
      "{'name': 'Bruce Zimmermann'}\n",
      "{'name': 'Ryan Yarbrough'}\n",
      "{'name': 'Matt Barnes'}\n",
      "{'name': 'Michael Wacha'}\n",
      "{'name': 'Chris Davis'}\n",
      "{'name': 'Trey Mancini'}\n",
      "{'name': 'Colten Brewer'}\n",
      "{'name': 'Rafael Dolis'}\n",
      "{'name': 'Cole Sulser'}\n",
      "{'name': 'Jordan Montgomery'}\n",
      "{'name': 'Deivi GarcÃ\\xada'}\n",
      "{'name': 'Gerrit Cole'}\n",
      "{'name': 'Mike Ford'}\n",
      "{'name': 'Nate Pearson'}\n",
      "{'name': 'J.D. Martinez'}\n",
      "{'name': 'Rylan Bannon'}\n",
      "{'name': 'Vladimir Guerrero Jr.'}\n",
      "{'name': 'Cedric Mullins'}\n",
      "{'name': 'Josh Fleming'}\n",
      "{'name': 'Rafael Devers'}\n"
     ]
    }
   ],
   "source": [
    "for player_dict in hitter_data_list:\n",
    "    player =  player_dict.get(\"player\",{})\n",
    "    item = {}\n",
    "    item[\"name\"] = player.get(\"full_name\",\"N/A\")\n",
    "    print(item)\n",
    "    season = getSeasonByYear(player, season_year)\n",
    "  \n",
    "    item[\"barreledBall\"] = getBarreledBall(season)\n",
    "    data.append(item)"
   ]
  },
  {
   "cell_type": "code",
   "execution_count": 102,
   "metadata": {},
   "outputs": [
    {
     "data": {
      "text/plain": [
       "[{'name': 'Ronaldo HernÃ¡ndez', 'barreledBall': 0},\n",
       " {'name': 'Michael Chavis', 'barreledBall': 187},\n",
       " {'name': 'Hyun Jin Ryu', 'barreledBall': 28},\n",
       " {'name': 'Ryan Thompson', 'barreledBall': 0},\n",
       " {'name': 'RamÃ³n UrÃ\\xadas', 'barreledBall': 0},\n",
       " {'name': 'Otto Lopez', 'barreledBall': 0},\n",
       " {'name': 'Yoshi Tsutsugo', 'barreledBall': 0},\n",
       " {'name': 'Luke Voit', 'barreledBall': 271},\n",
       " {'name': 'Christian VÃ¡zquez', 'barreledBall': 350},\n",
       " {'name': 'Hunter Harvey', 'barreledBall': 0},\n",
       " {'name': 'Andrew Benintendi', 'barreledBall': 379},\n",
       " {'name': 'Austin Hays', 'barreledBall': 49},\n",
       " {'name': 'Ji-Man Choi', 'barreledBall': 292},\n",
       " {'name': 'Zac Lowther', 'barreledBall': 0},\n",
       " {'name': 'Jonathan Davis', 'barreledBall': 54},\n",
       " {'name': 'Pat Valaika', 'barreledBall': 39},\n",
       " {'name': 'Hanser Alberto', 'barreledBall': 435},\n",
       " {'name': 'Teoscar HernÃ¡ndez', 'barreledBall': 236},\n",
       " {'name': 'Tanner Houck', 'barreledBall': 0},\n",
       " {'name': 'Ty Tice', 'barreledBall': 0},\n",
       " {'name': 'Christian Arroyo', 'barreledBall': 30},\n",
       " {'name': 'Clint Frazier', 'barreledBall': 147},\n",
       " {'name': 'Brett Phillips', 'barreledBall': 39},\n",
       " {'name': 'Lourdes Gurriel Jr.', 'barreledBall': 216},\n",
       " {'name': 'Richie Martin', 'barreledBall': 188},\n",
       " {'name': 'Chris Mazza', 'barreledBall': 1},\n",
       " {'name': 'Mike Tauchman', 'barreledBall': 183},\n",
       " {'name': 'Xander Bogaerts', 'barreledBall': 457},\n",
       " {'name': 'Pete Fairbanks', 'barreledBall': 0},\n",
       " {'name': 'Darwinzon Hernandez', 'barreledBall': 0},\n",
       " {'name': 'Ryan Borucki', 'barreledBall': 0},\n",
       " {'name': 'Alexander Wells', 'barreledBall': 0},\n",
       " {'name': 'Thairo Estrada', 'barreledBall': 47},\n",
       " {'name': 'Tom Hatch', 'barreledBall': 0},\n",
       " {'name': 'Rowdy Tellez', 'barreledBall': 235},\n",
       " {'name': 'Riley Adams', 'barreledBall': 0},\n",
       " {'name': 'Dustin Pedroia', 'barreledBall': 17},\n",
       " {'name': 'Gabriel Moreno', 'barreledBall': 0},\n",
       " {'name': 'Anthony Castro', 'barreledBall': 0},\n",
       " {'name': 'Travis Lakins Sr.', 'barreledBall': 0},\n",
       " {'name': 'Aaron Hicks', 'barreledBall': 129},\n",
       " {'name': 'Austin Brice', 'barreledBall': 0},\n",
       " {'name': 'Randal Grichuk', 'barreledBall': 380},\n",
       " {'name': 'Jonathan AraÃºz', 'barreledBall': 0},\n",
       " {'name': 'Garrett Whitlock', 'barreledBall': 0},\n",
       " {'name': 'Shawn Armstrong', 'barreledBall': 0},\n",
       " {'name': 'Ryan Brasier', 'barreledBall': 0},\n",
       " {'name': 'Phillips Valdez', 'barreledBall': 0},\n",
       " {'name': 'Chris Sale', 'barreledBall': 0},\n",
       " {'name': 'Nathan Eovaldi', 'barreledBall': 1},\n",
       " {'name': 'Anthony Kay', 'barreledBall': 0},\n",
       " {'name': 'Alex Verdugo', 'barreledBall': 279},\n",
       " {'name': 'Randy Arozarena', 'barreledBall': 14},\n",
       " {'name': 'Alejandro Kirk', 'barreledBall': 0},\n",
       " {'name': 'Trevor Richards', 'barreledBall': 12},\n",
       " {'name': 'Nick Anderson', 'barreledBall': 0},\n",
       " {'name': 'Gleyber Torres', 'barreledBall': 384},\n",
       " {'name': 'Keegan Akin', 'barreledBall': 0},\n",
       " {'name': 'Francisco MejÃ\\xada', 'barreledBall': 144},\n",
       " {'name': 'Diego Castillo', 'barreledBall': 0},\n",
       " {'name': 'Tyler Glasnow', 'barreledBall': 1},\n",
       " {'name': 'Willy Adames', 'barreledBall': 360},\n",
       " {'name': 'Jeisson Rosario', 'barreledBall': 0},\n",
       " {'name': 'Gio Urshela', 'barreledBall': 326},\n",
       " {'name': 'Aaron Judge', 'barreledBall': 221},\n",
       " {'name': 'Bo Bichette', 'barreledBall': 142},\n",
       " {'name': 'Josh Palacios', 'barreledBall': 0},\n",
       " {'name': 'Hunter Renfroe', 'barreledBall': 262},\n",
       " {'name': 'Michael King', 'barreledBall': 0},\n",
       " {'name': 'Danny Jansen', 'barreledBall': 244},\n",
       " {'name': 'Kevin Kiermaier', 'barreledBall': 317},\n",
       " {'name': 'Eduardo RodrÃ\\xadguez', 'barreledBall': 5},\n",
       " {'name': 'Joey Wendle', 'barreledBall': 182},\n",
       " {'name': 'DJ Stewart', 'barreledBall': 89},\n",
       " {'name': 'John Curtiss', 'barreledBall': 0},\n",
       " {'name': 'Cody Reed', 'barreledBall': 0},\n",
       " {'name': 'Paul Fry', 'barreledBall': 0},\n",
       " {'name': 'Robbie Ray', 'barreledBall': 24},\n",
       " {'name': 'Tanner Scott', 'barreledBall': 0},\n",
       " {'name': 'Ryan Mountcastle', 'barreledBall': 0},\n",
       " {'name': 'Cavan Biggio', 'barreledBall': 214},\n",
       " {'name': 'Mike Zunino', 'barreledBall': 143},\n",
       " {'name': 'Chance Sisco', 'barreledBall': 98},\n",
       " {'name': 'Pedro Severino', 'barreledBall': 214},\n",
       " {'name': 'Santiago Espinal', 'barreledBall': 0},\n",
       " {'name': 'Reese McGuire', 'barreledBall': 72},\n",
       " {'name': 'Isaac Mattson', 'barreledBall': 0},\n",
       " {'name': 'Travis Shaw', 'barreledBall': 121},\n",
       " {'name': 'Bobby Dalbec', 'barreledBall': 0},\n",
       " {'name': 'Matt Andriese', 'barreledBall': 3},\n",
       " {'name': 'Kevin Plawecki', 'barreledBall': 114},\n",
       " {'name': 'Josh Taylor', 'barreledBall': 0},\n",
       " {'name': 'Michael Baumann', 'barreledBall': 0},\n",
       " {'name': 'Ross Stripling', 'barreledBall': 10},\n",
       " {'name': 'Rio Ruiz', 'barreledBall': 263},\n",
       " {'name': 'Yusniel Diaz', 'barreledBall': 0},\n",
       " {'name': 'Jorge LÃ³pez', 'barreledBall': 1},\n",
       " {'name': 'A.J. Cole', 'barreledBall': 0},\n",
       " {'name': 'Manuel Margot', 'barreledBall': 285},\n",
       " {'name': 'Yandy DÃ\\xadaz', 'barreledBall': 234},\n",
       " {'name': 'Austin Meadows', 'barreledBall': 368},\n",
       " {'name': 'Tyler Wade', 'barreledBall': 53},\n",
       " {'name': 'Brandon Lowe', 'barreledBall': 171},\n",
       " {'name': 'JosÃ© Iglesias', 'barreledBall': 396},\n",
       " {'name': 'Alex Cobb', 'barreledBall': 0},\n",
       " {'name': 'Mike Brosseau', 'barreledBall': 88},\n",
       " {'name': 'Nick Pivetta', 'barreledBall': 4},\n",
       " {'name': 'Anthony Santander', 'barreledBall': 260},\n",
       " {'name': 'Cesar Valdez', 'barreledBall': 0},\n",
       " {'name': 'John Means', 'barreledBall': 1},\n",
       " {'name': 'Bruce Zimmermann', 'barreledBall': 0},\n",
       " {'name': 'Ryan Yarbrough', 'barreledBall': 0},\n",
       " {'name': 'Matt Barnes', 'barreledBall': 0},\n",
       " {'name': 'Michael Wacha', 'barreledBall': 12},\n",
       " {'name': 'Chris Davis', 'barreledBall': 166},\n",
       " {'name': 'Trey Mancini', 'barreledBall': 431},\n",
       " {'name': 'Colten Brewer', 'barreledBall': 0},\n",
       " {'name': 'Rafael Dolis', 'barreledBall': 0},\n",
       " {'name': 'Cole Sulser', 'barreledBall': 0},\n",
       " {'name': 'Jordan Montgomery', 'barreledBall': 0},\n",
       " {'name': 'Deivi GarcÃ\\xada', 'barreledBall': 0},\n",
       " {'name': 'Gerrit Cole', 'barreledBall': 1},\n",
       " {'name': 'Mike Ford', 'barreledBall': 105},\n",
       " {'name': 'Nate Pearson', 'barreledBall': 0},\n",
       " {'name': 'J.D. Martinez', 'barreledBall': 416},\n",
       " {'name': 'Rylan Bannon', 'barreledBall': 0},\n",
       " {'name': 'Vladimir Guerrero Jr.', 'barreledBall': 346},\n",
       " {'name': 'Cedric Mullins', 'barreledBall': 43},\n",
       " {'name': 'Josh Fleming', 'barreledBall': 0},\n",
       " {'name': 'Rafael Devers', 'barreledBall': 468}]"
      ]
     },
     "execution_count": 102,
     "metadata": {},
     "output_type": "execute_result"
    }
   ],
   "source": [
    "data"
   ]
  },
  {
   "cell_type": "code",
   "execution_count": 103,
   "metadata": {},
   "outputs": [],
   "source": [
    "season = getSeasonByYear(hitter_data_list[1], season_year)"
   ]
  },
  {
   "cell_type": "code",
   "execution_count": 24,
   "metadata": {},
   "outputs": [
    {
     "data": {
      "text/plain": [
       "0"
      ]
     },
     "execution_count": 24,
     "metadata": {},
     "output_type": "execute_result"
    }
   ],
   "source": [
    " getBarreledBall(season)"
   ]
  },
  {
   "cell_type": "code",
   "execution_count": null,
   "metadata": {},
   "outputs": [],
   "source": []
  },
  {
   "cell_type": "code",
   "execution_count": 14,
   "metadata": {},
   "outputs": [
    {
     "data": {
      "text/plain": [
       "{}"
      ]
     },
     "execution_count": 14,
     "metadata": {},
     "output_type": "execute_result"
    }
   ],
   "source": [
    "getSeasonByYear(hitter_data_list[1],2019,seasonType ='REG')"
   ]
  },
  {
   "cell_type": "code",
   "execution_count": null,
   "metadata": {},
   "outputs": [],
   "source": []
  }
 ],
 "metadata": {
  "kernelspec": {
   "display_name": "Python 3",
   "language": "python",
   "name": "python3"
  },
  "language_info": {
   "codemirror_mode": {
    "name": "ipython",
    "version": 3
   },
   "file_extension": ".py",
   "mimetype": "text/x-python",
   "name": "python",
   "nbconvert_exporter": "python",
   "pygments_lexer": "ipython3",
   "version": "3.8.3"
  }
 },
 "nbformat": 4,
 "nbformat_minor": 4
}
